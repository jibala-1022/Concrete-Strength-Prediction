{
 "cells": [
  {
   "cell_type": "code",
   "outputs": [],
   "source": [
    "import numpy as np\n",
    "import pandas as pd\n",
    "import matplotlib.pyplot as plt\n",
    "import seaborn as sns\n",
    "import os\n",
    "import random\n",
    "\n",
    "pd.pandas.set_option('display.max_columns', None)\n",
    "%matplotlib inline\n",
    "random.seed(7)"
   ],
   "metadata": {
    "collapsed": false,
    "ExecuteTime": {
     "end_time": "2024-04-19T18:12:39.256498Z",
     "start_time": "2024-04-19T18:12:39.251425Z"
    }
   },
   "id": "271acc436acedb79",
   "execution_count": 74
  },
  {
   "cell_type": "code",
   "outputs": [],
   "source": [
    "from sklearn.model_selection import train_test_split, GridSearchCV, RandomizedSearchCV\n",
    "from sklearn.preprocessing import StandardScaler, MinMaxScaler\n",
    "from sklearn.linear_model import Lasso\n",
    "from sklearn.metrics import mean_squared_error, mean_absolute_error, r2_score"
   ],
   "metadata": {
    "collapsed": false,
    "ExecuteTime": {
     "end_time": "2024-04-19T18:12:39.265779Z",
     "start_time": "2024-04-19T18:12:39.257650Z"
    }
   },
   "id": "e795916956ef234d",
   "execution_count": 75
  },
  {
   "cell_type": "code",
   "outputs": [
    {
     "data": {
      "text/plain": "     Cement  Blast Furnace Slag   Fly Ash     Water  Superplasticizer  \\\n0  2.477915           -0.858192 -0.847144 -0.954349         -0.634503   \n1  2.477915           -0.858192 -0.847144 -0.954349         -0.634503   \n2  0.491425            0.811541 -0.847144  2.250592         -1.091166   \n3  0.491425            0.811541 -0.847144  2.250592         -1.091166   \n4 -0.790459            0.693195 -0.847144  0.502442         -1.091166   \n\n   Coarse Aggregate  Fine Aggregate       Age  Concrete compressive strength  \n0          0.863154       -1.227306 -0.153159                       2.645408  \n1          1.056164       -1.227306 -0.153159                       1.561421  \n2         -0.526517       -2.269700 -0.153159                       0.266627  \n3         -0.526517       -2.269700 -0.153159                       0.313340  \n4          0.070527        0.673158 -0.153159                       0.507979  ",
      "text/html": "<div>\n<style scoped>\n    .dataframe tbody tr th:only-of-type {\n        vertical-align: middle;\n    }\n\n    .dataframe tbody tr th {\n        vertical-align: top;\n    }\n\n    .dataframe thead th {\n        text-align: right;\n    }\n</style>\n<table border=\"1\" class=\"dataframe\">\n  <thead>\n    <tr style=\"text-align: right;\">\n      <th></th>\n      <th>Cement</th>\n      <th>Blast Furnace Slag</th>\n      <th>Fly Ash</th>\n      <th>Water</th>\n      <th>Superplasticizer</th>\n      <th>Coarse Aggregate</th>\n      <th>Fine Aggregate</th>\n      <th>Age</th>\n      <th>Concrete compressive strength</th>\n    </tr>\n  </thead>\n  <tbody>\n    <tr>\n      <th>0</th>\n      <td>2.477915</td>\n      <td>-0.858192</td>\n      <td>-0.847144</td>\n      <td>-0.954349</td>\n      <td>-0.634503</td>\n      <td>0.863154</td>\n      <td>-1.227306</td>\n      <td>-0.153159</td>\n      <td>2.645408</td>\n    </tr>\n    <tr>\n      <th>1</th>\n      <td>2.477915</td>\n      <td>-0.858192</td>\n      <td>-0.847144</td>\n      <td>-0.954349</td>\n      <td>-0.634503</td>\n      <td>1.056164</td>\n      <td>-1.227306</td>\n      <td>-0.153159</td>\n      <td>1.561421</td>\n    </tr>\n    <tr>\n      <th>2</th>\n      <td>0.491425</td>\n      <td>0.811541</td>\n      <td>-0.847144</td>\n      <td>2.250592</td>\n      <td>-1.091166</td>\n      <td>-0.526517</td>\n      <td>-2.269700</td>\n      <td>-0.153159</td>\n      <td>0.266627</td>\n    </tr>\n    <tr>\n      <th>3</th>\n      <td>0.491425</td>\n      <td>0.811541</td>\n      <td>-0.847144</td>\n      <td>2.250592</td>\n      <td>-1.091166</td>\n      <td>-0.526517</td>\n      <td>-2.269700</td>\n      <td>-0.153159</td>\n      <td>0.313340</td>\n    </tr>\n    <tr>\n      <th>4</th>\n      <td>-0.790459</td>\n      <td>0.693195</td>\n      <td>-0.847144</td>\n      <td>0.502442</td>\n      <td>-1.091166</td>\n      <td>0.070527</td>\n      <td>0.673158</td>\n      <td>-0.153159</td>\n      <td>0.507979</td>\n    </tr>\n  </tbody>\n</table>\n</div>"
     },
     "execution_count": 76,
     "metadata": {},
     "output_type": "execute_result"
    }
   ],
   "source": [
    "src_csv = os.path.abspath(os.path.join(os.getcwd(), '..', '..', 'data', 'concrete.csv'))\n",
    "df = pd.read_csv(src_csv)\n",
    "\n",
    "df.head()"
   ],
   "metadata": {
    "collapsed": false,
    "ExecuteTime": {
     "end_time": "2024-04-19T18:12:39.312972Z",
     "start_time": "2024-04-19T18:12:39.266842Z"
    }
   },
   "id": "70950a217f2e9c12",
   "execution_count": 76
  },
  {
   "cell_type": "code",
   "outputs": [
    {
     "name": "stdout",
     "output_type": "stream",
     "text": [
      "(1030, 8) (1030, 1)\n"
     ]
    }
   ],
   "source": [
    "X_data = df.drop(df.columns[-1], axis=1).values\n",
    "y_data = df[df.columns[-1]].values.reshape(-1, 1)\n",
    "print(X_data.shape, y_data.shape)"
   ],
   "metadata": {
    "collapsed": false,
    "ExecuteTime": {
     "end_time": "2024-04-19T18:12:39.318483Z",
     "start_time": "2024-04-19T18:12:39.313979Z"
    }
   },
   "id": "9d809b2d65cd16b2",
   "execution_count": 77
  },
  {
   "cell_type": "code",
   "outputs": [],
   "source": [
    "# train, validation, test = 60%, 20%, 20%\n",
    "X_tv, X_test, y_tv, y_test = train_test_split(X_data, y_data, test_size=0.2, random_state=7)\n",
    "X_train, X_val, y_train, y_val = train_test_split(X_tv, y_tv, test_size=0.25, random_state=7)"
   ],
   "metadata": {
    "collapsed": true,
    "ExecuteTime": {
     "end_time": "2024-04-19T18:12:39.325118Z",
     "start_time": "2024-04-19T18:12:39.320746Z"
    }
   },
   "id": "initial_id",
   "execution_count": 78
  },
  {
   "cell_type": "code",
   "outputs": [],
   "source": [
    "# model = Lasso(alpha=0.1)\n",
    "# model.fit(X_train, y_train)\n",
    "# y_pred = model.predict(X_test)\n",
    "# \n",
    "# mse = mean_squared_error(y_test, y_pred)\n",
    "# mae = mean_absolute_error(y_test, y_pred)\n",
    "# r2 = r2_score(y_test, y_pred)\n",
    "# \n",
    "# print(mae)\n",
    "# print(model.intercept_)\n",
    "# print(model.coef_)"
   ],
   "metadata": {
    "collapsed": false,
    "ExecuteTime": {
     "end_time": "2024-04-19T18:12:39.365036Z",
     "start_time": "2024-04-19T18:12:39.326172Z"
    }
   },
   "id": "776812a9f3c3ba99",
   "execution_count": 79
  },
  {
   "cell_type": "code",
   "outputs": [],
   "source": [
    "# class MyLassoRegression_BGD:\n",
    "#     def __init__(self, learning_rate=0.01, lambda_=0.1, epochs=1000):\n",
    "#         self.learning_rate = learning_rate\n",
    "#         self.lambda_ = lambda_\n",
    "#         self.epochs = epochs\n",
    "#         self.theta = None\n",
    "#         \n",
    "#     def fit(self, X, y):\n",
    "#         X = np.concatenate((np.ones((X.shape[0], 1)), X), axis=1)\n",
    "#         n_samples, n_dims = X.shape\n",
    "#               \n",
    "#         self.theta = np.zeros((n_dims, 1))\n",
    "#         I = np.identity(n_dims)\n",
    "#         I[0, 0] = 0  \n",
    "#         \n",
    "#         cost_list = []\n",
    "#         epoch_list = []\n",
    "#     \n",
    "#         for epoch in range(self.epochs):\n",
    "#             y_pred = X @ self.theta\n",
    "#             \n",
    "#             dt = (2 / n_samples) * (X.T @ (y_pred - y)) + 2 * self.lambda_ * np.sign(self.theta) * I.diagonal().reshape(-1, 1)\n",
    "#     \n",
    "#             self.theta -= self.learning_rate * dt\n",
    "#             \n",
    "#             if epoch % 10 == 0:\n",
    "#                 cost = np.mean(np.square(y_pred - y)) + self.lambda_ * np.sum(self.theta[1:])\n",
    "#                 cost_list.append(cost)\n",
    "#                 epoch_list.append(epoch)\n",
    "#             \n",
    "#         plt.plot(epoch_list, cost_list)\n",
    "#         plt.xlabel('Epoch')\n",
    "#         plt.ylabel('Cost')\n",
    "#         plt.show()\n",
    "#     \n",
    "#     def predict(self, X):\n",
    "#         return X @ self.theta[1:] + self.theta[0]\n",
    "#     \n",
    "#     \n",
    "# model = MyLassoRegression_BGD()\n",
    "# model.fit(X_train, y_train)\n",
    "# y_pred = model.predict(X_test)\n",
    "# \n",
    "# mse = mean_squared_error(y_test, y_pred)\n",
    "# mae = mean_absolute_error(y_test, y_pred)\n",
    "# r2 = r2_score(y_test, y_pred)\n",
    "# \n",
    "# print(mae)\n",
    "# print(model.theta)"
   ],
   "metadata": {
    "collapsed": false,
    "ExecuteTime": {
     "end_time": "2024-04-19T18:12:39.370985Z",
     "start_time": "2024-04-19T18:12:39.366090Z"
    }
   },
   "id": "e332fdad26a303d",
   "execution_count": 80
  },
  {
   "cell_type": "code",
   "outputs": [
    {
     "name": "stdout",
     "output_type": "stream",
     "text": [
      "X: (618, 8)\n",
      "y: (618, 1)\n",
      "K: (618, 618)\n",
      "P: (1236, 1236)\n",
      "q: (1236, 1)\n",
      "G: (2472, 1236)\n",
      "h: (2472, 1)\n",
      "A: (1, 1236)\n",
      "b: (1, 1)\n",
      "     pcost       dcost       gap    pres   dres\n",
      " 0: -1.0406e+02 -2.3807e+04  2e+04  5e-13  2e-13\n",
      " 1: -7.8599e+02 -4.1325e+03  3e+03  1e-12  2e-13\n",
      " 2: -1.9901e+03 -2.6596e+03  7e+02  7e-13  2e-13\n",
      " 3: -2.2891e+03 -2.4360e+03  1e+02  3e-12  2e-13\n",
      " 4: -2.3439e+03 -2.3960e+03  5e+01  4e-13  2e-13\n",
      " 5: -2.3602e+03 -2.3827e+03  2e+01  4e-13  2e-13\n",
      " 6: -2.3673e+03 -2.3767e+03  9e+00  2e-12  2e-13\n",
      " 7: -2.3711e+03 -2.3733e+03  2e+00  4e-12  2e-13\n",
      " 8: -2.3719e+03 -2.3726e+03  7e-01  1e-12  2e-13\n",
      " 9: -2.3722e+03 -2.3723e+03  1e-01  2e-12  2e-13\n",
      "10: -2.3722e+03 -2.3722e+03  4e-02  1e-12  2e-13\n",
      "11: -2.3722e+03 -2.3722e+03  3e-03  3e-14  2e-13\n",
      "12: -2.3722e+03 -2.3722e+03  4e-05  2e-12  2e-13\n",
      "Optimal solution found.\n"
     ]
    },
    {
     "name": "stderr",
     "output_type": "stream",
     "text": [
      "C:\\Users\\Balaji\\AppData\\Local\\Temp\\ipykernel_23904\\1755415229.py:78: DeprecationWarning: Conversion of an array with ndim > 0 to a scalar is deprecated, and will error in future. Ensure you extract a single element from your array before performing this operation. (Deprecated NumPy 1.25.)\n",
      "  y_pred[i] = self.linear_kernel(self.X, X[i, :]).T @ self.alpha_diff + self.b\n"
     ]
    },
    {
     "data": {
      "text/plain": "4.80631170605686"
     },
     "execution_count": 81,
     "metadata": {},
     "output_type": "execute_result"
    }
   ],
   "source": [
    "from cvxopt import solvers, matrix\n",
    "from sklearn.metrics import mean_squared_error\n",
    "\n",
    "class MySVR:    \n",
    "    def __init__(self, kernel='linear', degree=3, C=10, eps=0.01):\n",
    "        self.kernel = kernel\n",
    "        self.degree = degree\n",
    "        self.C = C\n",
    "        self.eps = eps\n",
    "        self.kernel_matrix = None\n",
    "        self.alpha_diff = None\n",
    "        self.X = None\n",
    "        self.b = 0\n",
    "    \n",
    "    def linear_kernel(self, x, z):\n",
    "        return x @ z.T\n",
    "\n",
    "    def poly_kernel(self, x, z, degree, intercept):\n",
    "        return np.power((x @ z.T) + intercept, degree)\n",
    "    \n",
    "    def rbf_kernel(self, x, z, sigma):\n",
    "        n = x.shape[0]\n",
    "        m = z.shape[0]\n",
    "        xx = np.dot(np.sum(np.power(x, 2), 1).reshape(n, 1), np.ones((1, m)))\n",
    "        zz = np.dot(np.sum(np.power(z, 2), 1).reshape(m, 1), np.ones((1, n)))\n",
    "        return np.exp(-(xx + zz.T - 2 * np.dot(x, z.T)) / (2 * sigma ** 2))\n",
    "    \n",
    "    def fit(self, X, y):\n",
    "        self.X = X\n",
    "        m = X.shape[0]\n",
    "        print(f\"X: {X.shape}\")\n",
    "        print(f\"y: {y.shape}\")\n",
    "        \n",
    "        if self.kernel == 'linear':\n",
    "            self.kernel_matrix = self.linear_kernel(X, X)\n",
    "        elif self.kernel == 'poly':\n",
    "            self.kernel_matrix = self.poly_kernel(X, X, self.degree, 0)\n",
    "        elif self.kernel == 'rbf':\n",
    "            self.kernel_matrix = self.rbf_kernel(X, X, 1)\n",
    "        \n",
    "        K = self.kernel_matrix\n",
    "        print(f\"K: {K.shape}\")\n",
    "        \n",
    "        P = matrix(0.5 * np.vstack((np.hstack((K, - K)), np.hstack((- K, K)))), (2 * m, 2 * m), 'd')\n",
    "        print(f\"P: {P.size}\")\n",
    "        \n",
    "        q = matrix(np.vstack((np.ones((m, 1)) * self.eps - y.reshape(-1, 1), np.ones((m, 1)) * self.eps + y.reshape(-1, 1))), (2 * m, 1), 'd')\n",
    "        print(f\"q: {q.size}\")\n",
    "        \n",
    "        G = matrix(np.vstack((np.eye(2 * m), - np.eye(2 * m))))\n",
    "        print(f\"G: {G.size}\")\n",
    "        \n",
    "        h = matrix(np.vstack((np.ones((2 * m, 1)) * self.C, np.zeros((2 * m, 1)))))\n",
    "        print(f\"h: {h.size}\")\n",
    "        \n",
    "        A = matrix(np.hstack((np.ones((1, m)), - np.ones((1, m)))))\n",
    "        print(f\"A: {A.size}\")\n",
    "        \n",
    "        b = matrix(0.0)\n",
    "        print(f\"b: {b.size}\")\n",
    "        \n",
    "        sol = solvers.qp(P, q, G, h, A, b)\n",
    "        alphas = np.array(sol[\"x\"])\n",
    "        alphas[np.abs(alphas) < 1e-5] = 0\n",
    "        \n",
    "        self.alpha_diff = alphas[0:m] - alphas[m:2*m]\n",
    "        \n",
    "        for k in range(m):\n",
    "            if alphas[k] > 0:\n",
    "                self.b = y[k] - np.sum(self.alpha_diff * X * X[k])\n",
    "                break\n",
    "                \n",
    "    def predict(self, X):\n",
    "        m = X.shape[0]\n",
    "        y_pred = np.zeros(m)\n",
    "        if self.kernel == 'linear':\n",
    "            for i in range(m):\n",
    "                y_pred[i] = self.linear_kernel(self.X, X[i, :]).T @ self.alpha_diff + self.b\n",
    "        elif self.kernel == 'poly':\n",
    "            for i in range(m):\n",
    "                y_pred[i] = self.poly_kernel(self.X, X[i, :], self.degree, 0).T @ self.alpha_diff + self.b\n",
    "        elif self.kernel == 'rbf':\n",
    "            for i in range(m):\n",
    "                y_pred[i] = self.rbf_kernel(self.X, X[i, :], 1).T @ self.alpha_diff + self.b\n",
    "        return y_pred\n",
    "        \n",
    "svr = MySVR()\n",
    "svr.fit(X_train, y_train)\n",
    "y_pred = svr.predict(X_test)\n",
    "\n",
    "mse = mean_squared_error(y_test, y_pred)\n",
    "mse"
   ],
   "metadata": {
    "collapsed": false,
    "ExecuteTime": {
     "end_time": "2024-04-19T18:12:40.970445Z",
     "start_time": "2024-04-19T18:12:39.372050Z"
    }
   },
   "id": "db7a8885a01dca55",
   "execution_count": 81
  },
  {
   "cell_type": "code",
   "outputs": [],
   "source": [],
   "metadata": {
    "collapsed": false,
    "ExecuteTime": {
     "end_time": "2024-04-19T18:12:40.973459Z",
     "start_time": "2024-04-19T18:12:40.971500Z"
    }
   },
   "id": "ddf5bac512860500",
   "execution_count": 81
  }
 ],
 "metadata": {
  "kernelspec": {
   "display_name": "Python 3",
   "language": "python",
   "name": "python3"
  },
  "language_info": {
   "codemirror_mode": {
    "name": "ipython",
    "version": 2
   },
   "file_extension": ".py",
   "mimetype": "text/x-python",
   "name": "python",
   "nbconvert_exporter": "python",
   "pygments_lexer": "ipython2",
   "version": "2.7.6"
  }
 },
 "nbformat": 4,
 "nbformat_minor": 5
}
